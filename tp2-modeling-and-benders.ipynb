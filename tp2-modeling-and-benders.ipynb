{
 "cells": [
  {
   "cell_type": "markdown",
   "metadata": {},
   "source": [
    "# TP2 - Modeling using docplex"
   ]
  },
  {
   "cell_type": "markdown",
   "metadata": {},
   "source": [
    "## 1. The `docplex` python package\n",
    "\n",
    "`DOcplex` is a python package developped by IBM &mdash; It provides easy-to-use API for IBM solvers Cplex and Cpoptimizer.\n",
    "\n",
    "DOcplex documentation for mathematical programming can be found here: http://ibmdecisionoptimization.github.io/docplex-doc/#mathematical-programming-modeling-for-python-using-docplex-mp-docplex-mp"
   ]
  },
  {
   "cell_type": "markdown",
   "metadata": {},
   "source": [
    "## 2. Solving TSP using `docplex`\n",
    "\n",
    "### 2.1. TSP model using `docplex`\n",
    "\n",
    "**Exercice:** Using `docplex`, create a model for the travelling salesman problem using the MTZ or Flow formulation and compare them."
   ]
  },
  {
   "cell_type": "code",
   "execution_count": 1,
   "metadata": {},
   "outputs": [
    {
     "ename": "DOcplexException",
     "evalue": "Cannot solve model: no CPLEX runtime found.",
     "output_type": "error",
     "traceback": [
      "\u001b[0;31m---------------------------------------------------------------------------\u001b[0m",
      "\u001b[0;31mDOcplexException\u001b[0m                          Traceback (most recent call last)",
      "\u001b[0;32m<ipython-input-1-9a69b05a5d48>\u001b[0m in \u001b[0;36m<module>\u001b[0;34m\u001b[0m\n\u001b[1;32m     17\u001b[0m \u001b[0;34m\u001b[0m\u001b[0m\n\u001b[1;32m     18\u001b[0m \u001b[0;34m\u001b[0m\u001b[0m\n\u001b[0;32m---> 19\u001b[0;31m \u001b[0msolution\u001b[0m \u001b[0;34m=\u001b[0m \u001b[0mtsp\u001b[0m\u001b[0;34m.\u001b[0m\u001b[0msolve\u001b[0m\u001b[0;34m(\u001b[0m\u001b[0;34m)\u001b[0m\u001b[0;34m\u001b[0m\u001b[0;34m\u001b[0m\u001b[0m\n\u001b[0m\u001b[1;32m     20\u001b[0m \u001b[0mprint\u001b[0m\u001b[0;34m(\u001b[0m\u001b[0;34m\"z* =\"\u001b[0m\u001b[0;34m,\u001b[0m \u001b[0msolution\u001b[0m\u001b[0;34m.\u001b[0m\u001b[0mobjective_value\u001b[0m\u001b[0;34m)\u001b[0m\u001b[0;34m\u001b[0m\u001b[0;34m\u001b[0m\u001b[0m\n",
      "\u001b[0;32m/usr/local/insa/anaconda/lib/python3.8/site-packages/docplex/mp/model.py\u001b[0m in \u001b[0;36msolve\u001b[0;34m(self, **kwargs)\u001b[0m\n\u001b[1;32m   4827\u001b[0m                 \u001b[0;32mreturn\u001b[0m \u001b[0mself\u001b[0m\u001b[0;34m.\u001b[0m\u001b[0m_solve_local\u001b[0m\u001b[0;34m(\u001b[0m\u001b[0mcontext\u001b[0m\u001b[0;34m,\u001b[0m \u001b[0mused_clean_before_solve\u001b[0m\u001b[0;34m,\u001b[0m \u001b[0mlex_timelimits\u001b[0m\u001b[0;34m,\u001b[0m \u001b[0mlex_mipgaps\u001b[0m\u001b[0;34m)\u001b[0m\u001b[0;34m\u001b[0m\u001b[0;34m\u001b[0m\u001b[0m\n\u001b[1;32m   4828\u001b[0m             \u001b[0;32melse\u001b[0m\u001b[0;34m:\u001b[0m\u001b[0;34m\u001b[0m\u001b[0;34m\u001b[0m\u001b[0m\n\u001b[0;32m-> 4829\u001b[0;31m                 \u001b[0;32mreturn\u001b[0m \u001b[0mself\u001b[0m\u001b[0;34m.\u001b[0m\u001b[0mfatal\u001b[0m\u001b[0;34m(\u001b[0m\u001b[0;34m\"Cannot solve model: no CPLEX runtime found.\"\u001b[0m\u001b[0;34m)\u001b[0m\u001b[0;34m\u001b[0m\u001b[0;34m\u001b[0m\u001b[0m\n\u001b[0m\u001b[1;32m   4830\u001b[0m \u001b[0;34m\u001b[0m\u001b[0m\n\u001b[1;32m   4831\u001b[0m     \u001b[0;32mdef\u001b[0m \u001b[0m_connect_progress_listeners\u001b[0m\u001b[0;34m(\u001b[0m\u001b[0mself\u001b[0m\u001b[0;34m)\u001b[0m\u001b[0;34m:\u001b[0m\u001b[0;34m\u001b[0m\u001b[0;34m\u001b[0m\u001b[0m\n",
      "\u001b[0;32m/usr/local/insa/anaconda/lib/python3.8/site-packages/docplex/mp/model.py\u001b[0m in \u001b[0;36mfatal\u001b[0;34m(self, msg, *args)\u001b[0m\n\u001b[1;32m   1082\u001b[0m \u001b[0;34m\u001b[0m\u001b[0m\n\u001b[1;32m   1083\u001b[0m     \u001b[0;32mdef\u001b[0m \u001b[0mfatal\u001b[0m\u001b[0;34m(\u001b[0m\u001b[0mself\u001b[0m\u001b[0;34m,\u001b[0m \u001b[0mmsg\u001b[0m\u001b[0;34m,\u001b[0m \u001b[0;34m*\u001b[0m\u001b[0margs\u001b[0m\u001b[0;34m)\u001b[0m\u001b[0;34m:\u001b[0m\u001b[0;34m\u001b[0m\u001b[0;34m\u001b[0m\u001b[0m\n\u001b[0;32m-> 1084\u001b[0;31m         \u001b[0mself\u001b[0m\u001b[0;34m.\u001b[0m\u001b[0m_error_handler\u001b[0m\u001b[0;34m.\u001b[0m\u001b[0mfatal\u001b[0m\u001b[0;34m(\u001b[0m\u001b[0mmsg\u001b[0m\u001b[0;34m,\u001b[0m \u001b[0margs\u001b[0m\u001b[0;34m)\u001b[0m\u001b[0;34m\u001b[0m\u001b[0;34m\u001b[0m\u001b[0m\n\u001b[0m\u001b[1;32m   1085\u001b[0m \u001b[0;34m\u001b[0m\u001b[0m\n\u001b[1;32m   1086\u001b[0m     \u001b[0;32mdef\u001b[0m \u001b[0mfatal_ce_limits\u001b[0m\u001b[0;34m(\u001b[0m\u001b[0mself\u001b[0m\u001b[0;34m,\u001b[0m \u001b[0;34m*\u001b[0m\u001b[0margs\u001b[0m\u001b[0;34m)\u001b[0m\u001b[0;34m:\u001b[0m\u001b[0;34m\u001b[0m\u001b[0;34m\u001b[0m\u001b[0m\n",
      "\u001b[0;32m/usr/local/insa/anaconda/lib/python3.8/site-packages/docplex/mp/error_handler.py\u001b[0m in \u001b[0;36mfatal\u001b[0;34m(self, msg, args)\u001b[0m\n\u001b[1;32m    208\u001b[0m         \u001b[0mresolved_message\u001b[0m \u001b[0;34m=\u001b[0m \u001b[0mresolve_pattern\u001b[0m\u001b[0;34m(\u001b[0m\u001b[0mmsg\u001b[0m\u001b[0;34m,\u001b[0m \u001b[0margs\u001b[0m\u001b[0;34m)\u001b[0m\u001b[0;34m\u001b[0m\u001b[0;34m\u001b[0m\u001b[0m\n\u001b[1;32m    209\u001b[0m         \u001b[0mdocplex_error_stop_here\u001b[0m\u001b[0;34m(\u001b[0m\u001b[0;34m)\u001b[0m\u001b[0;34m\u001b[0m\u001b[0;34m\u001b[0m\u001b[0m\n\u001b[0;32m--> 210\u001b[0;31m         \u001b[0;32mraise\u001b[0m \u001b[0mDOcplexException\u001b[0m\u001b[0;34m(\u001b[0m\u001b[0mresolved_message\u001b[0m\u001b[0;34m)\u001b[0m\u001b[0;34m\u001b[0m\u001b[0;34m\u001b[0m\u001b[0m\n\u001b[0m\u001b[1;32m    211\u001b[0m \u001b[0;34m\u001b[0m\u001b[0m\n\u001b[1;32m    212\u001b[0m     \u001b[0;32mdef\u001b[0m \u001b[0mfatal_limits_exceeded\u001b[0m\u001b[0;34m(\u001b[0m\u001b[0mself\u001b[0m\u001b[0;34m,\u001b[0m \u001b[0mnb_vars\u001b[0m\u001b[0;34m,\u001b[0m \u001b[0mnb_constraints\u001b[0m\u001b[0;34m)\u001b[0m\u001b[0;34m:\u001b[0m\u001b[0;34m\u001b[0m\u001b[0;34m\u001b[0m\u001b[0m\n",
      "\u001b[0;31mDOcplexException\u001b[0m: Cannot solve model: no CPLEX runtime found."
     ]
    }
   ],
   "source": [
    "from docplex.mp.model import Model\n",
    "import tsp.data as data\n",
    "\n",
    "distances = data.grid42\n",
    "N = len(distances)\n",
    "\n",
    "tsp = Model(\"TSP\")\n",
    "tsp.log_output = True\n",
    "\n",
    "model = Model()\n",
    "variables = model.binary_var_matrix(N,N)\n",
    "for i in range(N):\n",
    "    model.add_constraint(model.sum(variables[(i, j)] for j in range(N)) == 1)\n",
    "for j in range(N):\n",
    "    model.add_constraint(model.sum(variables[(i, j)] for i in range(N)) == 1)\n",
    "model.minimize(model.sum(variables[i, j]*distances[i][j] for i in range(N) for j in range(N)))\n",
    "\n",
    "\n",
    "solution = tsp.solve()\n",
    "print(\"z* =\", solution.objective_value)"
   ]
  },
  {
   "cell_type": "markdown",
   "metadata": {},
   "source": [
    "The largest set of distances contains 42 nodes, and should be easily solved by `docplex`.\n",
    "\n",
    "### 2.2. Generating random TSP instances\n",
    "\n",
    "**Question:** What method could you implement to generate a realistic set of distances for $n$ customers?\n",
    "\n",
    "**Exercice:** Implement the method proposed above and test it."
   ]
  },
  {
   "cell_type": "code",
   "execution_count": 3,
   "metadata": {},
   "outputs": [
    {
     "name": "stdout",
     "output_type": "stream",
     "text": [
      "[[0.         0.46444666 0.36954482 ... 0.65720921 0.45460582 0.58382141]\n",
      " [0.46444666 0.         0.56277242 ... 0.30074047 0.84848439 0.29652449]\n",
      " [0.36954482 0.56277242 0.         ... 0.57022214 0.36141887 0.47201868]\n",
      " ...\n",
      " [0.65720921 0.30074047 0.57022214 ... 0.         0.92175412 0.09862926]\n",
      " [0.45460582 0.84848439 0.36141887 ... 0.92175412 0.         0.82533268]\n",
      " [0.58382141 0.29652449 0.47201868 ... 0.09862926 0.82533268 0.        ]]\n"
     ]
    },
    {
     "ename": "DOcplexException",
     "evalue": "Cannot solve model: no CPLEX runtime found.",
     "output_type": "error",
     "traceback": [
      "\u001b[0;31m---------------------------------------------------------------------------\u001b[0m",
      "\u001b[0;31mDOcplexException\u001b[0m                          Traceback (most recent call last)",
      "\u001b[0;32m<ipython-input-3-d1e04c773f59>\u001b[0m in \u001b[0;36m<module>\u001b[0;34m\u001b[0m\n\u001b[1;32m     30\u001b[0m \u001b[0;34m...\u001b[0m  \u001b[0;31m# TODO: Copy your model from the first question here.\u001b[0m\u001b[0;34m\u001b[0m\u001b[0;34m\u001b[0m\u001b[0m\n\u001b[1;32m     31\u001b[0m \u001b[0;34m\u001b[0m\u001b[0m\n\u001b[0;32m---> 32\u001b[0;31m \u001b[0msolution\u001b[0m \u001b[0;34m=\u001b[0m \u001b[0mtsp\u001b[0m\u001b[0;34m.\u001b[0m\u001b[0msolve\u001b[0m\u001b[0;34m(\u001b[0m\u001b[0;34m)\u001b[0m\u001b[0;34m\u001b[0m\u001b[0;34m\u001b[0m\u001b[0m\n\u001b[0m\u001b[1;32m     33\u001b[0m \u001b[0mprint\u001b[0m\u001b[0;34m(\u001b[0m\u001b[0;34m\"z* =\"\u001b[0m\u001b[0;34m,\u001b[0m \u001b[0msolution\u001b[0m\u001b[0;34m.\u001b[0m\u001b[0mobjective_value\u001b[0m\u001b[0;34m)\u001b[0m\u001b[0;34m\u001b[0m\u001b[0;34m\u001b[0m\u001b[0m\n",
      "\u001b[0;32m/usr/local/insa/anaconda/lib/python3.8/site-packages/docplex/mp/model.py\u001b[0m in \u001b[0;36msolve\u001b[0;34m(self, **kwargs)\u001b[0m\n\u001b[1;32m   4827\u001b[0m                 \u001b[0;32mreturn\u001b[0m \u001b[0mself\u001b[0m\u001b[0;34m.\u001b[0m\u001b[0m_solve_local\u001b[0m\u001b[0;34m(\u001b[0m\u001b[0mcontext\u001b[0m\u001b[0;34m,\u001b[0m \u001b[0mused_clean_before_solve\u001b[0m\u001b[0;34m,\u001b[0m \u001b[0mlex_timelimits\u001b[0m\u001b[0;34m,\u001b[0m \u001b[0mlex_mipgaps\u001b[0m\u001b[0;34m)\u001b[0m\u001b[0;34m\u001b[0m\u001b[0;34m\u001b[0m\u001b[0m\n\u001b[1;32m   4828\u001b[0m             \u001b[0;32melse\u001b[0m\u001b[0;34m:\u001b[0m\u001b[0;34m\u001b[0m\u001b[0;34m\u001b[0m\u001b[0m\n\u001b[0;32m-> 4829\u001b[0;31m                 \u001b[0;32mreturn\u001b[0m \u001b[0mself\u001b[0m\u001b[0;34m.\u001b[0m\u001b[0mfatal\u001b[0m\u001b[0;34m(\u001b[0m\u001b[0;34m\"Cannot solve model: no CPLEX runtime found.\"\u001b[0m\u001b[0;34m)\u001b[0m\u001b[0;34m\u001b[0m\u001b[0;34m\u001b[0m\u001b[0m\n\u001b[0m\u001b[1;32m   4830\u001b[0m \u001b[0;34m\u001b[0m\u001b[0m\n\u001b[1;32m   4831\u001b[0m     \u001b[0;32mdef\u001b[0m \u001b[0m_connect_progress_listeners\u001b[0m\u001b[0;34m(\u001b[0m\u001b[0mself\u001b[0m\u001b[0;34m)\u001b[0m\u001b[0;34m:\u001b[0m\u001b[0;34m\u001b[0m\u001b[0;34m\u001b[0m\u001b[0m\n",
      "\u001b[0;32m/usr/local/insa/anaconda/lib/python3.8/site-packages/docplex/mp/model.py\u001b[0m in \u001b[0;36mfatal\u001b[0;34m(self, msg, *args)\u001b[0m\n\u001b[1;32m   1082\u001b[0m \u001b[0;34m\u001b[0m\u001b[0m\n\u001b[1;32m   1083\u001b[0m     \u001b[0;32mdef\u001b[0m \u001b[0mfatal\u001b[0m\u001b[0;34m(\u001b[0m\u001b[0mself\u001b[0m\u001b[0;34m,\u001b[0m \u001b[0mmsg\u001b[0m\u001b[0;34m,\u001b[0m \u001b[0;34m*\u001b[0m\u001b[0margs\u001b[0m\u001b[0;34m)\u001b[0m\u001b[0;34m:\u001b[0m\u001b[0;34m\u001b[0m\u001b[0;34m\u001b[0m\u001b[0m\n\u001b[0;32m-> 1084\u001b[0;31m         \u001b[0mself\u001b[0m\u001b[0;34m.\u001b[0m\u001b[0m_error_handler\u001b[0m\u001b[0;34m.\u001b[0m\u001b[0mfatal\u001b[0m\u001b[0;34m(\u001b[0m\u001b[0mmsg\u001b[0m\u001b[0;34m,\u001b[0m \u001b[0margs\u001b[0m\u001b[0;34m)\u001b[0m\u001b[0;34m\u001b[0m\u001b[0;34m\u001b[0m\u001b[0m\n\u001b[0m\u001b[1;32m   1085\u001b[0m \u001b[0;34m\u001b[0m\u001b[0m\n\u001b[1;32m   1086\u001b[0m     \u001b[0;32mdef\u001b[0m \u001b[0mfatal_ce_limits\u001b[0m\u001b[0;34m(\u001b[0m\u001b[0mself\u001b[0m\u001b[0;34m,\u001b[0m \u001b[0;34m*\u001b[0m\u001b[0margs\u001b[0m\u001b[0;34m)\u001b[0m\u001b[0;34m:\u001b[0m\u001b[0;34m\u001b[0m\u001b[0;34m\u001b[0m\u001b[0m\n",
      "\u001b[0;32m/usr/local/insa/anaconda/lib/python3.8/site-packages/docplex/mp/error_handler.py\u001b[0m in \u001b[0;36mfatal\u001b[0;34m(self, msg, args)\u001b[0m\n\u001b[1;32m    208\u001b[0m         \u001b[0mresolved_message\u001b[0m \u001b[0;34m=\u001b[0m \u001b[0mresolve_pattern\u001b[0m\u001b[0;34m(\u001b[0m\u001b[0mmsg\u001b[0m\u001b[0;34m,\u001b[0m \u001b[0margs\u001b[0m\u001b[0;34m)\u001b[0m\u001b[0;34m\u001b[0m\u001b[0;34m\u001b[0m\u001b[0m\n\u001b[1;32m    209\u001b[0m         \u001b[0mdocplex_error_stop_here\u001b[0m\u001b[0;34m(\u001b[0m\u001b[0;34m)\u001b[0m\u001b[0;34m\u001b[0m\u001b[0;34m\u001b[0m\u001b[0m\n\u001b[0;32m--> 210\u001b[0;31m         \u001b[0;32mraise\u001b[0m \u001b[0mDOcplexException\u001b[0m\u001b[0;34m(\u001b[0m\u001b[0mresolved_message\u001b[0m\u001b[0;34m)\u001b[0m\u001b[0;34m\u001b[0m\u001b[0;34m\u001b[0m\u001b[0m\n\u001b[0m\u001b[1;32m    211\u001b[0m \u001b[0;34m\u001b[0m\u001b[0m\n\u001b[1;32m    212\u001b[0m     \u001b[0;32mdef\u001b[0m \u001b[0mfatal_limits_exceeded\u001b[0m\u001b[0;34m(\u001b[0m\u001b[0mself\u001b[0m\u001b[0;34m,\u001b[0m \u001b[0mnb_vars\u001b[0m\u001b[0;34m,\u001b[0m \u001b[0mnb_constraints\u001b[0m\u001b[0;34m)\u001b[0m\u001b[0;34m:\u001b[0m\u001b[0;34m\u001b[0m\u001b[0;34m\u001b[0m\u001b[0m\n",
      "\u001b[0;31mDOcplexException\u001b[0m: Cannot solve model: no CPLEX runtime found."
     ]
    }
   ],
   "source": [
    "import numpy as np\n",
    "import scipy.spatial.distance\n",
    "from random import random\n",
    "\n",
    "def generate_random_positions(n:int):\n",
    "    return [(random(),random()) for i in range(n)]\n",
    "\n",
    "def distance(depart,arrivee):\n",
    "    return np.sqrt((depart[0]-arrivee[0])**2 + (depart[1]-arrivee[1])**2)\n",
    "\n",
    "def generate_distances(n: int):\n",
    "    positions = generate_random_positions(n)\n",
    "    distances = np.ones((n,n))\n",
    "    for depart in range(n):\n",
    "        for arrivee in range(n):\n",
    "            distances[depart,arrivee] = distance(positions[depart],positions[arrivee])\n",
    "    return distances\n",
    "\n",
    "\n",
    "from docplex.mp.model import Model\n",
    "\n",
    "distances = generate_distances(50)\n",
    "print(distances)\n",
    "\n",
    "N = len(distances)\n",
    "\n",
    "tsp = Model(\"TSP\")\n",
    "tsp.log_output = True\n",
    "\n",
    "...  # TODO: Copy your model from the first question here.\n",
    "\n",
    "solution = tsp.solve()\n",
    "print(\"z* =\", solution.objective_value)"
   ]
  },
  {
   "cell_type": "markdown",
   "metadata": {},
   "source": [
    "## 3. Solving Warehouse Allocation using Benders decomposition with `docplex`\n",
    "\n",
    "### 3.1. The warehouse problem\n",
    "\n",
    "A company needs to supply a set of $n$ clients and needs to open new warehouses (from a\n",
    "set of $m$ possible warehouses).\n",
    "Opening a warehouse $j$ costs $f_j$ and supplying a client $i$ from a warehouse $j$ costs $c_{ij}$ per supply unit.\n",
    "Which warehouses should be opened in order to satisfy all clients while minimizing the total cost?\n",
    "\n",
    "### 3.2. Solving the warehouse problem with a single ILP\n",
    "\n",
    "- $y_{j} = 1$ if and only if warehouse $j$ is opened.\n",
    "- $x_{ij}$ is the fraction supplied from warehouse $j$ to customer $i$.\n",
    "\n",
    "$\n",
    "\\begin{align}\n",
    "  \\text{min.} \\quad & \\sum_{i=1}^{n} \\sum_{j=1}^{m} c_{ij} x_{ij} + \\sum_{j=1}^{m} f_{j} y_{j} & \\\\\n",
    "  \\text{s.t.} \\quad & \\sum_{j=1}^{m} x_{ij} = 1, & \\forall i \\in\\{1,\\ldots,n\\}\\\\\n",
    "                    & x_{ij} \\leq y_{j}, & \\forall i\\in\\{1,\\ldots,n\\},\\forall j\\in\\{1,\\ldots,m\\}\\\\\n",
    "                    & y_{j} \\in \\left\\{0,~1\\right\\}, & \\forall j \\in \\left\\{1,~\\ldots,~m\\right\\}\\\\\n",
    "                    & x_{ij} \\geq 0, & \\forall i \\in \\left\\{1,~\\ldots,~n\\right\\}, \\forall j \\in \\left\\{1,~\\ldots,~m\\right\\}\n",
    "\\end{align}\n",
    "$\n",
    "\n",
    "\n",
    "**Exercice:** Implement the ILP model for the warehouse allocation problem and test it on the given instance."
   ]
  },
  {
   "cell_type": "code",
   "execution_count": 3,
   "metadata": {},
   "outputs": [
    {
     "ename": "TypeError",
     "evalue": "'Var' object is not subscriptable",
     "output_type": "error",
     "traceback": [
      "\u001b[0;31m---------------------------------------------------------------------------\u001b[0m",
      "\u001b[0;31mTypeError\u001b[0m                                 Traceback (most recent call last)",
      "\u001b[0;32m<ipython-input-3-5481cba48b09>\u001b[0m in \u001b[0;36m<module>\u001b[0;34m\u001b[0m\n\u001b[1;32m     19\u001b[0m \u001b[0;32mfor\u001b[0m \u001b[0mi\u001b[0m \u001b[0;32min\u001b[0m \u001b[0mrange\u001b[0m\u001b[0;34m(\u001b[0m\u001b[0mN\u001b[0m\u001b[0;34m)\u001b[0m\u001b[0;34m:\u001b[0m\u001b[0;34m\u001b[0m\u001b[0;34m\u001b[0m\u001b[0m\n\u001b[1;32m     20\u001b[0m     \u001b[0;32mfor\u001b[0m \u001b[0mj\u001b[0m \u001b[0;32min\u001b[0m \u001b[0mrange\u001b[0m\u001b[0;34m(\u001b[0m\u001b[0mN\u001b[0m\u001b[0;34m)\u001b[0m\u001b[0;34m:\u001b[0m\u001b[0;34m\u001b[0m\u001b[0;34m\u001b[0m\u001b[0m\n\u001b[0;32m---> 21\u001b[0;31m         \u001b[0mmodel\u001b[0m\u001b[0;34m.\u001b[0m\u001b[0madd_constraint\u001b[0m\u001b[0;34m(\u001b[0m\u001b[0mx_variables\u001b[0m\u001b[0;34m[\u001b[0m\u001b[0;34m(\u001b[0m\u001b[0mi\u001b[0m\u001b[0;34m,\u001b[0m \u001b[0mj\u001b[0m\u001b[0;34m)\u001b[0m\u001b[0;34m]\u001b[0m \u001b[0;34m<=\u001b[0m \u001b[0my_variables\u001b[0m\u001b[0;34m[\u001b[0m\u001b[0mj\u001b[0m\u001b[0;34m]\u001b[0m\u001b[0;34m)\u001b[0m\u001b[0;34m\u001b[0m\u001b[0;34m\u001b[0m\u001b[0m\n\u001b[0m\u001b[1;32m     22\u001b[0m \u001b[0;34m\u001b[0m\u001b[0m\n\u001b[1;32m     23\u001b[0m model.minimize(model.sum(x_variables[(i, j)]*distances[i][j] for i in range(N) for j in range(N))\n",
      "\u001b[0;31mTypeError\u001b[0m: 'Var' object is not subscriptable"
     ]
    }
   ],
   "source": [
    "from docplex.mp.model import Model\n",
    "\n",
    "# We will start with a small instances with 3 warehouses and 3 clients:\n",
    "N = 3\n",
    "M = 3\n",
    "\n",
    "# Opening and distribution costs:\n",
    "f = [20, 20, 20]\n",
    "c = [[15, 1, 2], [1, 16, 3], [4, 1, 17]]\n",
    "\n",
    "wa = Model(\"Warehouse Allocation\")\n",
    "wa.log_output = True\n",
    "\n",
    "x_variables = model.continuous_var_matrix(N,N)\n",
    "y_variables = model.binary_var(N)\n",
    "for i in range(N):\n",
    "    model.add_constraint(model.sum(x_variables[i, j] for j in range(N)) == 1)\n",
    "    \n",
    "for i in range(N):\n",
    "    for j in range(N):\n",
    "        model.add_constraint(x_variables[(i, j)] <= y_variables[j])\n",
    "        \n",
    "model.minimize(model.sum(x_variables[(i, j)]*distances[i][j] for i in range(N) for j in range(N))\n",
    "              +model.sum(y_variables[j]*f[j] for j in range(N)))\n",
    "\n",
    "\n",
    "\n",
    "solution = wa.solve()\n",
    "print(\"z* =\", solution.objective_value)"
   ]
  },
  {
   "cell_type": "markdown",
   "metadata": {},
   "source": [
    "### 3.3. Benders' decomposition for the Warehouse Allocation problem\n",
    "\n",
    "We are going to use Benders' decomposition to solve the Warehouse Allocation problem. \n",
    "\n",
    "#### Dual subproblem\n",
    "\n",
    "$\n",
    "\\begin{align*}\n",
    "\\text{max.} \\quad & \\sum_{i=1}^{n} v_{i} - \\sum_{i=1}^{n}\\sum_{j=1}^{m} \\bar{y}_{j} u_{ij} & \\\\\n",
    "\\text{s.t.} \\quad & v_{i} - u_{ij} \\leq c_{ij}, & \\forall i\\in\\{1,\\ldots,n\\},\\forall j\\in\\{1,\\ldots,m\\}\\\\\n",
    "                  & v_{i} \\in\\mathbb{R},\\ u_{ij} \\geq 0 & \\forall i \\in\\{1,\\ldots,n\\}, \\forall j\\in\\{1,\\ldots,m\\}\n",
    "\\end{align*}\n",
    "$\n",
    "\n",
    "#### Master problem\n",
    "\n",
    "$\n",
    "\\begin{align*}\n",
    "  \\text{min.} \\quad & \\sum_{j=1}^{m} f_j y_j + z & \\\\\n",
    "  \\text{s.t.} \\quad & z \\geq \\sum_{i=1}^{n}v_i^p - \\sum_{i=1}^{n} \\sum_{j=1}^{m} u_{ij}^p y_j, & \\forall p\\in l_1\\\\\n",
    "                    & 0 \\geq \\sum_{i=1}^{n}v_i^r - \\sum_{i=1}^{n} \\sum_{j=1}^{n} u_{ij}^r y_j, & \\forall r\\in l_2\\\\\n",
    "                    & y_{j} \\in\\{0,1\\}, & \\forall j\\in\\{1,\\ldots,m\\}\n",
    "\\end{align*}\n",
    "$"
   ]
  },
  {
   "cell_type": "markdown",
   "metadata": {},
   "source": [
    "**Exercice:** Implement the method `create_master_problem` that creates the initial master problem (without feasibility or optimality constraints) for the warehouse allocation problem.\n",
    "\n",
    "<div class=\"alert alert-info alert-block\">\n",
    "\n",
    "You can use `print(m.export_as_lp_string())` to display a textual representation of a `docplex` model `m`.\n",
    "    \n",
    "</div>"
   ]
  },
  {
   "cell_type": "code",
   "execution_count": null,
   "metadata": {},
   "outputs": [],
   "source": [
    "from docplex.mp.model import Model\n",
    "from docplex.mp.linear import Var\n",
    "from docplex.mp.constr import AbstractConstraint\n",
    "from typing import List, Sequence, Tuple\n",
    "\n",
    "\n",
    "def create_master_problem(\n",
    "    N: int, M: int, f: Sequence[float], c: Sequence[Sequence[float]]\n",
    ") -> Tuple[Model, Var, Sequence[Var]]:\n",
    "    \"\"\"\n",
    "    Creates the initial Benders master problem for the Warehouse Allocation problem.\n",
    "\n",
    "    Args:\n",
    "        N: Number of clients.\n",
    "        M: Number of warehouses.\n",
    "        f: Array-like containing costs of opening warehouses.\n",
    "        c: 2D-array like containing transport costs from client to warehouses.\n",
    "\n",
    "    Returns:\n",
    "        A 3-tuple containing the docplex problem, the z variable and the y variables.\n",
    "    \"\"\"\n",
    "\n",
    "    wa = Model(\"Warehouse Allocation - Benders master problem\")\n",
    "\n",
    "    ...  # TODO\n",
    "\n",
    "    return wa, z, y\n",
    "\n",
    "\n",
    "# Check your method:\n",
    "wa, z, y = create_master_problem(N, M, f, c)\n",
    "print(wa.export_as_lp_string())"
   ]
  },
  {
   "cell_type": "markdown",
   "metadata": {},
   "source": [
    "**Exercice:** Implement the method `add_optimality_constraints` that add optimality constraints to the Benders master problem. "
   ]
  },
  {
   "cell_type": "code",
   "execution_count": null,
   "metadata": {},
   "outputs": [],
   "source": [
    "def add_optimality_constraint(\n",
    "    N: int,\n",
    "    M: int,\n",
    "    wa: Model,\n",
    "    z: Var,\n",
    "    y: Sequence[Var],\n",
    "    v: Sequence[float],\n",
    "    u: Sequence[Sequence[float]],\n",
    ") -> List[AbstractConstraint]:\n",
    "    \"\"\"\n",
    "    Adds an optimality constraints to the given Warehouse Allocation model\n",
    "    using the given optimal values from the Benders dual subproblem.\n",
    "\n",
    "    Args:\n",
    "        N: Number of clients.\n",
    "        M: Number of warehouses.\n",
    "        wa: The Benders master problem (docplex.mp.model.Model).\n",
    "        z: The z variable of the master problem.\n",
    "        y: The y variables of the master problem.\n",
    "        v: The optimal values for the v variables of the Benders dual subproblem.\n",
    "        u: The optimal values for the u variables of the Benders dual subproblem.\n",
    "\n",
    "    Return: The optimality constraint added.\n",
    "    \"\"\"\n",
    "    return ...  # TODO"
   ]
  },
  {
   "cell_type": "markdown",
   "metadata": {},
   "source": [
    "**Exercice:** Implement the method `add_feasibility_constraints` that add feasibility constraints to the Benders master problem. "
   ]
  },
  {
   "cell_type": "code",
   "execution_count": null,
   "metadata": {},
   "outputs": [],
   "source": [
    "def add_feasibility_constraints(\n",
    "    N: int,\n",
    "    M: int,\n",
    "    wa: Model,\n",
    "    z: Var,\n",
    "    y: Sequence[Var],\n",
    "    v: Sequence[float],\n",
    "    u: Sequence[Sequence[float]],\n",
    ") -> List[AbstractConstraint]:\n",
    "    \"\"\"\n",
    "    Adds an optimality constraints to the given Warehouse Allocation model\n",
    "    using the given optimal values from the Benders dual subproblem.\n",
    "\n",
    "    Args:\n",
    "      - N: Number of clients.\n",
    "      - M: Number of warehouses.\n",
    "      - wa: The Benders master problem (docplex.mp.model.Model).\n",
    "      - z: The z variable of the master problem.\n",
    "      - y: The y variables of the master problem.\n",
    "      - v: The extreme rays for the v variables of the Benders dual subproblem.\n",
    "      - u: The extreme rays for the u variables of the Benders dual subproblem.\n",
    "\n",
    "    Returns:\n",
    "        The feasibility constraint added.\n",
    "    \"\"\"\n",
    "    # TODO:\n",
    "    return"
   ]
  },
  {
   "cell_type": "markdown",
   "metadata": {},
   "source": [
    "**Exercice:** Implement the method `create_dual_subproblem` that, given a solution `y` of the master problem, create the corresponding Benders dual subproblem.\n",
    "\n",
    "$\n",
    "\\begin{align*}\n",
    "\\text{max.} \\quad & \\sum_{i=1}^{n} v_{i} - \\sum_{i=1}^{n}\\sum_{j=1}^{m} \\bar{y}_{j} u_{ij} & \\\\\n",
    "\\text{s.t.} \\quad & v_{i} - u_{ij} \\leq c_{ij}, & \\forall i\\in\\{1,\\ldots,n\\},\\forall j\\in\\{1,\\ldots,m\\}\\\\\n",
    "                  & v_{i} \\in\\mathbb{R},\\ u_{ij} \\geq 0 & \\forall i \\in\\{1,\\ldots,n\\}, \\forall j\\in\\{1,\\ldots,m\\}\n",
    "\\end{align*}\n",
    "$"
   ]
  },
  {
   "cell_type": "code",
   "execution_count": null,
   "metadata": {},
   "outputs": [],
   "source": [
    "from docplex.mp.model import Model\n",
    "\n",
    "\n",
    "def create_dual_subproblem(\n",
    "    N: int, M: int, f: Sequence[float], c: Sequence[Sequence[float]], y: Sequence[int]\n",
    ") -> Tuple[Model, Sequence[Var], Sequence[Sequence[Var]]]:\n",
    "    \"\"\"\n",
    "    Creates a Benders dual subproblem for the Warehouse Allocation problem corresponding\n",
    "    to the given master solution.\n",
    "\n",
    "    Args:\n",
    "        N: Number of clients.\n",
    "        M: Number of warehouses.\n",
    "        f: Array-like containing costs of opening warehouses.\n",
    "        c: 2D-array like containing transport costs from client to warehouses.\n",
    "        y: Values of the y variables from the Benders master problem.\n",
    "\n",
    "    Returns:\n",
    "        A 3-tuple containing the docplex problem, the v variable and the u variables.\n",
    "    \"\"\"\n",
    "\n",
    "    dsp = Model(\"Warehouse Allocation - Benders dual subproblem\")\n",
    "\n",
    "    # We disable pre-solve to be able to retrieve a meaningful status in the main\n",
    "    # algorithm:\n",
    "    dsp.parameters.preprocessing.presolve.set(0)\n",
    "\n",
    "    ...  # TODO\n",
    "\n",
    "    return dsp, v, u\n",
    "\n",
    "\n",
    "# Check your method (assuming y = [1 1 1 ... 1]):\n",
    "dsp, v, u = create_dual_subproblem(N, M, f, c, [1] * M)\n",
    "print(dsp.export_as_lp_string())"
   ]
  },
  {
   "cell_type": "markdown",
   "metadata": {},
   "source": [
    "**Exercice:** Using the methods you implemented, write the Benders decomposition algorithm for the warehouse allocation problem.\n",
    "\n",
    "<div class=\"alert alert-block alert-info\">\n",
    "\n",
    "The `get_extreme_rays` function can be used to retrieve the extreme rays associated with an unbounded solution of the dual subproblem.\n",
    "    \n",
    "</div>\n",
    "\n",
    "<div class=\"alert alert-block alert-info\">\n",
    "    \n",
    "You can use `model.get_solve_status()` to obtain the status of the resolution and compare it to members of `JobSolveStatus`:\n",
    "    \n",
    "```python\n",
    "if model.get_solve_status() == JobSolveStatus.OPTIMAL_SOLUTION:\n",
    "    pass\n",
    "```\n",
    "    \n",
    "</div>"
   ]
  },
  {
   "cell_type": "code",
   "execution_count": null,
   "metadata": {},
   "outputs": [],
   "source": [
    "from docplex.mp.model import Model\n",
    "from docplex.util.status import JobSolveStatus\n",
    "\n",
    "\n",
    "def get_extreme_rays(\n",
    "    N: int, M: int, model: Model, v: Sequence[Var], u: Sequence[Sequence[Var]]\n",
    ") -> Tuple[Sequence[float], Sequence[Sequence[float]]]:\n",
    "    \"\"\"\n",
    "    Retrieves the extreme rays associated to the dual subproblem.\n",
    "\n",
    "    Args:\n",
    "        N: Number of clients.\n",
    "        M: Number of warehouses.\n",
    "        model: The Benders dual subproblem model (docplex.mp.model.Model).\n",
    "        v: 1D array containing the v variables of the subproblem.\n",
    "        u: Either a 2D array of a tuple-index dictionary containing the u variables\n",
    "            of the subproblem.\n",
    "\n",
    "    Returns:\n",
    "        A 2-tuple containing the list of extreme rays correspondig to v,\n",
    "        and the 2D-list of extreme rays corresponding to u.\n",
    "    \"\"\"\n",
    "    ray = model.get_engine().get_cplex().solution.advanced.get_ray()\n",
    "\n",
    "    if isinstance(u, dict):\n",
    "\n",
    "        def get_uij(i, j):\n",
    "            return u[i, j]\n",
    "\n",
    "    else:\n",
    "\n",
    "        def get_uij(i, j):\n",
    "            return u[i][j]\n",
    "\n",
    "    return (\n",
    "        [ray[v[i].index] for i in range(N)],\n",
    "        [[ray[get_uij(i, j).index] for j in range(M)] for i in range(N)],\n",
    "    )\n",
    "\n",
    "\n",
    "# We will start with a small instances with 3 warehouses and 3 clients:\n",
    "N = 3\n",
    "M = 3\n",
    "\n",
    "# Opening and distribution costs:\n",
    "f = [20, 20, 20]\n",
    "c = [[15, 1, 2], [1, 16, 3], [4, 1, 17]]\n",
    "\n",
    "# We stop iterating if the new solution is less than epsilon\n",
    "# better than the previous one:\n",
    "epsilon = 1e-6\n",
    "\n",
    "wa, z, y = create_master_problem(N, M, f, c)\n",
    "\n",
    "n = 0\n",
    "while True:\n",
    "\n",
    "    # Print iteration:\n",
    "    n = n + 1\n",
    "    print(\"Iteration {}\".format(n))\n",
    "\n",
    "    ...  # TODO\n",
    "\n",
    "print(\"Done.\")"
   ]
  },
  {
   "cell_type": "markdown",
   "metadata": {},
   "source": [
    "### 3.4. Generating instances for the Warehouse Allocation problem\n",
    "\n",
    "**Exercice:** Using the TSP instances contained in `tsp.data` or the `generate_distances` method, create instances for the warehouse allocation problem with randomized opening costs."
   ]
  },
  {
   "cell_type": "code",
   "execution_count": null,
   "metadata": {},
   "outputs": [],
   "source": []
  },
  {
   "cell_type": "markdown",
   "metadata": {},
   "source": [
    "<div class=\"alert alert-block alert-danger\"></div>"
   ]
  }
 ],
 "metadata": {
  "kernelspec": {
   "display_name": "Python 3",
   "language": "python",
   "name": "python3"
  },
  "language_info": {
   "codemirror_mode": {
    "name": "ipython",
    "version": 3
   },
   "file_extension": ".py",
   "mimetype": "text/x-python",
   "name": "python",
   "nbconvert_exporter": "python",
   "pygments_lexer": "ipython3",
   "version": "3.8.10"
  }
 },
 "nbformat": 4,
 "nbformat_minor": 4
}
